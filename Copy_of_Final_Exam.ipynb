{
  "nbformat": 4,
  "nbformat_minor": 0,
  "metadata": {
    "colab": {
      "name": "Copy of Final_Exam.ipynb",
      "provenance": [],
      "collapsed_sections": [],
      "include_colab_link": true
    },
    "kernelspec": {
      "name": "python3",
      "display_name": "Python 3"
    }
  },
  "cells": [
    {
      "cell_type": "markdown",
      "metadata": {
        "id": "view-in-github",
        "colab_type": "text"
      },
      "source": [
        "<a href=\"https://colab.research.google.com/github/nkurufabre123/my-first-program/blob/master/Copy_of_Final_Exam.ipynb\" target=\"_parent\"><img src=\"https://colab.research.google.com/assets/colab-badge.svg\" alt=\"Open In Colab\"/></a>"
      ]
    },
    {
      "cell_type": "markdown",
      "metadata": {
        "id": "OxGWyuTwqCAh",
        "colab_type": "text"
      },
      "source": [
        "# Final Exam\n",
        "## Introduction to Data Science\n",
        "### Kigali, Rwanda\n",
        "### July 13th, 2019\n",
        "\n",
        "\n",
        "## First Name: Fabrice\n",
        "## Last Name: NKURUNZIZA\n",
        "\n",
        "\n",
        "\n",
        "#### Import Important Libraries"
      ]
    },
    {
      "cell_type": "code",
      "metadata": {
        "id": "aDz5LHNsp_Cb",
        "colab_type": "code",
        "colab": {}
      },
      "source": [
        "# Models for transforming data\n",
        "from sklearn.preprocessing import StandardScaler, MinMaxScaler, PolynomialFeatures\n",
        "# Models for classification\n",
        "from sklearn.linear_model import LogisticRegression\n",
        "from sklearn.tree import DecisionTreeClassifier as DecisionTree\n",
        "from sklearn.ensemble import RandomForestClassifier as RandomForest\n",
        "from sklearn.ensemble import AdaBoostClassifier\n",
        "\n",
        "# Models for building neural networks\n",
        "import keras\n",
        "from keras.models import Sequential\n",
        "from keras.layers import Dense\n",
        "from keras.optimizers import SGD, Adam\n",
        "# Function splitting data into train and test\n",
        "from sklearn.model_selection import train_test_split\n",
        "# Model for making a data science pipeline \n",
        "from sklearn.pipeline import make_pipeline\n",
        "# Metric for evaluating classifiers\n",
        "from sklearn.metrics import roc_auc_score\n",
        "from sklearn.metrics import confusion_matrix\n",
        "\n",
        "# Library for computation with numerical data\n",
        "import numpy as np\n",
        "# Library for scientific computation\n",
        "import scipy as sp\n",
        "# Library for reading and manipulating data\n",
        "import pandas as pd\n",
        "# Library for visualization\n",
        "import matplotlib.pyplot as plt\n",
        "%matplotlib inline"
      ],
      "execution_count": 0,
      "outputs": []
    },
    {
      "cell_type": "code",
      "metadata": {
        "id": "0bNsn_fqqHzr",
        "colab_type": "code",
        "colab": {}
      },
      "source": [
        "data_df = pd.read_csv('https://raw.githubusercontent.com/onefishy/rwanda_workshop/master/data/final_exam_data.csv')"
      ],
      "execution_count": 0,
      "outputs": []
    },
    {
      "cell_type": "markdown",
      "metadata": {
        "id": "JxCyXad8qUC2",
        "colab_type": "text"
      },
      "source": [
        "## The Data\n",
        "\n",
        "You are provided a dataset of patients in a hospital containing the following information:\n",
        "\n",
        "1. **E2**: estrogen level in the patient's blood stream\n",
        "2. **hGH level**: level of a prescribed hormone in the patient's blood stream\n",
        "3. **family history**: family history of chronic disease\n",
        "4. **diabetes**: whether or not the patient has diabetes\n",
        "5. **outcome**: whether or not the patient has renal cancer\n",
        "\n",
        "The data is located at: `https://raw.githubusercontent.com/onefishy/rwanda_workshop/master/data/final_exam_data.csv`\n",
        "\n",
        "\n",
        "## The Task \n",
        "\n",
        "Your task is to build a classifier to predict whether or not a patient has renal cancer based on the attributes in the dataset.\n",
        "\n",
        "## Requirements:\n",
        "\n",
        "1. You must use all available attributes in your model.\n",
        "\n",
        "2. You must choose an evaluation metric (e.g. accuracy) to evaluate your model and explain why this metric is appropriate for this task and this dataset.\n",
        "\n",
        "3. You must fit at least three different models for classification for this task and compare their performance under your chosen metric.\n",
        "\n",
        "4. You must recommend a final model for this classification task and fully justify why you think this is the best model, out of the ones you tested, for this task.\n",
        "\n",
        "## Instructions for submission:\n",
        "\n",
        "0. Save the notebook to your GoogleDrive (Click on `File` in the menu and then `Save a copy in Drive`)\n",
        "\n",
        "1. Write your code, show your results and write your answers in this notebook. Be sure to write text in text boxes and code in code boxes. Make sure that results are displayed in readable formats.\n",
        "\n",
        "2. Share the notebook, when completed, with **weiweipan@g.harvard.edu** by midnight Friday. Late submission and email submissions will not be accepted.\n",
        "\n",
        "You may use notes from class, example code and internet resources. You may discuss the exam with each other but you may not copy code from each other (submissions suspected of cheating will not be graded)."
      ]
    },
    {
      "cell_type": "markdown",
      "metadata": {
        "id": "iUcg7JNp0QWd",
        "colab_type": "text"
      },
      "source": [
        "**Get the size of the dataframe**\n",
        "\n",
        "Let us first get the size of data frame, this will help us to know how many observations and attributes are in our dataset"
      ]
    },
    {
      "cell_type": "code",
      "metadata": {
        "id": "91cNwsLG0fYO",
        "colab_type": "code",
        "outputId": "de07a485-a527-4734-f779-6d31906c18c8",
        "colab": {
          "base_uri": "https://localhost:8080/",
          "height": 34
        }
      },
      "source": [
        "data_df.shape"
      ],
      "execution_count": 0,
      "outputs": [
        {
          "output_type": "execute_result",
          "data": {
            "text/plain": [
              "(13626, 5)"
            ]
          },
          "metadata": {
            "tags": []
          },
          "execution_count": 495
        }
      ]
    },
    {
      "cell_type": "markdown",
      "metadata": {
        "id": "WcpH9lyf0-T1",
        "colab_type": "text"
      },
      "source": [
        "as we can observe, we have 13, 626 observations and 5 attributes \n"
      ]
    },
    {
      "cell_type": "markdown",
      "metadata": {
        "id": "qInajbTg2qoo",
        "colab_type": "text"
      },
      "source": [
        "**Print the first 10 rows of the dataframe**\n",
        "\n",
        "Now we are inspecting the data we've read"
      ]
    },
    {
      "cell_type": "code",
      "metadata": {
        "id": "r4rMJSpW3EOz",
        "colab_type": "code",
        "outputId": "96765c68-d857-456a-ca8b-98a79f981f88",
        "colab": {
          "base_uri": "https://localhost:8080/",
          "height": 359
        }
      },
      "source": [
        "data_df.head(n=10)"
      ],
      "execution_count": 0,
      "outputs": [
        {
          "output_type": "execute_result",
          "data": {
            "text/html": [
              "<div>\n",
              "<style scoped>\n",
              "    .dataframe tbody tr th:only-of-type {\n",
              "        vertical-align: middle;\n",
              "    }\n",
              "\n",
              "    .dataframe tbody tr th {\n",
              "        vertical-align: top;\n",
              "    }\n",
              "\n",
              "    .dataframe thead th {\n",
              "        text-align: right;\n",
              "    }\n",
              "</style>\n",
              "<table border=\"1\" class=\"dataframe\">\n",
              "  <thead>\n",
              "    <tr style=\"text-align: right;\">\n",
              "      <th></th>\n",
              "      <th>E2 level</th>\n",
              "      <th>hGH level</th>\n",
              "      <th>family history</th>\n",
              "      <th>outcome</th>\n",
              "      <th>diabetes</th>\n",
              "    </tr>\n",
              "  </thead>\n",
              "  <tbody>\n",
              "    <tr>\n",
              "      <th>0</th>\n",
              "      <td>8522.086406</td>\n",
              "      <td>16.210865</td>\n",
              "      <td>high blood pressure</td>\n",
              "      <td>0</td>\n",
              "      <td>no</td>\n",
              "    </tr>\n",
              "    <tr>\n",
              "      <th>1</th>\n",
              "      <td>17281.680260</td>\n",
              "      <td>3.672162</td>\n",
              "      <td>heart disease</td>\n",
              "      <td>0</td>\n",
              "      <td>no</td>\n",
              "    </tr>\n",
              "    <tr>\n",
              "      <th>2</th>\n",
              "      <td>630.682920</td>\n",
              "      <td>24.712037</td>\n",
              "      <td>high cholestrol</td>\n",
              "      <td>0</td>\n",
              "      <td>yes</td>\n",
              "    </tr>\n",
              "    <tr>\n",
              "      <th>3</th>\n",
              "      <td>2203.150338</td>\n",
              "      <td>27.982018</td>\n",
              "      <td>high cholestrol</td>\n",
              "      <td>0</td>\n",
              "      <td>yes</td>\n",
              "    </tr>\n",
              "    <tr>\n",
              "      <th>4</th>\n",
              "      <td>10457.204723</td>\n",
              "      <td>7.631855</td>\n",
              "      <td>heart disease</td>\n",
              "      <td>0</td>\n",
              "      <td>no</td>\n",
              "    </tr>\n",
              "    <tr>\n",
              "      <th>5</th>\n",
              "      <td>1290.982680</td>\n",
              "      <td>20.932113</td>\n",
              "      <td>high cholestrol</td>\n",
              "      <td>0</td>\n",
              "      <td>yes</td>\n",
              "    </tr>\n",
              "    <tr>\n",
              "      <th>6</th>\n",
              "      <td>16347.297075</td>\n",
              "      <td>21.888827</td>\n",
              "      <td>high cholestrol</td>\n",
              "      <td>0</td>\n",
              "      <td>no</td>\n",
              "    </tr>\n",
              "    <tr>\n",
              "      <th>7</th>\n",
              "      <td>11229.414829</td>\n",
              "      <td>14.155399</td>\n",
              "      <td>high blood pressure</td>\n",
              "      <td>0</td>\n",
              "      <td>no</td>\n",
              "    </tr>\n",
              "    <tr>\n",
              "      <th>8</th>\n",
              "      <td>17030.285806</td>\n",
              "      <td>16.839135</td>\n",
              "      <td>high blood pressure</td>\n",
              "      <td>0</td>\n",
              "      <td>no</td>\n",
              "    </tr>\n",
              "    <tr>\n",
              "      <th>9</th>\n",
              "      <td>16824.699416</td>\n",
              "      <td>11.540856</td>\n",
              "      <td>high blood pressure</td>\n",
              "      <td>0</td>\n",
              "      <td>no</td>\n",
              "    </tr>\n",
              "  </tbody>\n",
              "</table>\n",
              "</div>"
            ],
            "text/plain": [
              "       E2 level  hGH level       family history  outcome diabetes\n",
              "0   8522.086406  16.210865  high blood pressure        0       no\n",
              "1  17281.680260   3.672162        heart disease        0       no\n",
              "2    630.682920  24.712037      high cholestrol        0      yes\n",
              "3   2203.150338  27.982018      high cholestrol        0      yes\n",
              "4  10457.204723   7.631855        heart disease        0       no\n",
              "5   1290.982680  20.932113      high cholestrol        0      yes\n",
              "6  16347.297075  21.888827      high cholestrol        0       no\n",
              "7  11229.414829  14.155399  high blood pressure        0       no\n",
              "8  17030.285806  16.839135  high blood pressure        0       no\n",
              "9  16824.699416  11.540856  high blood pressure        0       no"
            ]
          },
          "metadata": {
            "tags": []
          },
          "execution_count": 496
        }
      ]
    },
    {
      "cell_type": "markdown",
      "metadata": {
        "id": "qcMJFE4_4PW2",
        "colab_type": "text"
      },
      "source": [
        "It seems that E2 and hGH level  variables are continous type, while remaining variables seems to be categorical type"
      ]
    },
    {
      "cell_type": "markdown",
      "metadata": {
        "id": "AToc_o385V1V",
        "colab_type": "text"
      },
      "source": [
        "**Summarize the DataFrame**\n",
        "this part help us to compute summary stastics like mean, standard deviation ..and have an idea of data distribution"
      ]
    },
    {
      "cell_type": "code",
      "metadata": {
        "id": "BkXYbpbA6FG8",
        "colab_type": "code",
        "outputId": "2a5ff154-fd76-4a5c-91df-c65be935d07d",
        "colab": {
          "base_uri": "https://localhost:8080/",
          "height": 297
        }
      },
      "source": [
        "data_df.describe()"
      ],
      "execution_count": 0,
      "outputs": [
        {
          "output_type": "execute_result",
          "data": {
            "text/html": [
              "<div>\n",
              "<style scoped>\n",
              "    .dataframe tbody tr th:only-of-type {\n",
              "        vertical-align: middle;\n",
              "    }\n",
              "\n",
              "    .dataframe tbody tr th {\n",
              "        vertical-align: top;\n",
              "    }\n",
              "\n",
              "    .dataframe thead th {\n",
              "        text-align: right;\n",
              "    }\n",
              "</style>\n",
              "<table border=\"1\" class=\"dataframe\">\n",
              "  <thead>\n",
              "    <tr style=\"text-align: right;\">\n",
              "      <th></th>\n",
              "      <th>E2 level</th>\n",
              "      <th>hGH level</th>\n",
              "      <th>outcome</th>\n",
              "    </tr>\n",
              "  </thead>\n",
              "  <tbody>\n",
              "    <tr>\n",
              "      <th>count</th>\n",
              "      <td>13626.000000</td>\n",
              "      <td>13626.000000</td>\n",
              "      <td>13626.000000</td>\n",
              "    </tr>\n",
              "    <tr>\n",
              "      <th>mean</th>\n",
              "      <td>11288.657895</td>\n",
              "      <td>13.986700</td>\n",
              "      <td>0.112432</td>\n",
              "    </tr>\n",
              "    <tr>\n",
              "      <th>std</th>\n",
              "      <td>7772.639989</td>\n",
              "      <td>9.014058</td>\n",
              "      <td>0.315909</td>\n",
              "    </tr>\n",
              "    <tr>\n",
              "      <th>min</th>\n",
              "      <td>-15912.945555</td>\n",
              "      <td>-17.713080</td>\n",
              "      <td>0.000000</td>\n",
              "    </tr>\n",
              "    <tr>\n",
              "      <th>25%</th>\n",
              "      <td>5840.811284</td>\n",
              "      <td>7.531092</td>\n",
              "      <td>0.000000</td>\n",
              "    </tr>\n",
              "    <tr>\n",
              "      <th>50%</th>\n",
              "      <td>11096.010410</td>\n",
              "      <td>13.713171</td>\n",
              "      <td>0.000000</td>\n",
              "    </tr>\n",
              "    <tr>\n",
              "      <th>75%</th>\n",
              "      <td>16587.975903</td>\n",
              "      <td>20.080304</td>\n",
              "      <td>0.000000</td>\n",
              "    </tr>\n",
              "    <tr>\n",
              "      <th>max</th>\n",
              "      <td>36752.153723</td>\n",
              "      <td>49.106807</td>\n",
              "      <td>1.000000</td>\n",
              "    </tr>\n",
              "  </tbody>\n",
              "</table>\n",
              "</div>"
            ],
            "text/plain": [
              "           E2 level     hGH level       outcome\n",
              "count  13626.000000  13626.000000  13626.000000\n",
              "mean   11288.657895     13.986700      0.112432\n",
              "std     7772.639989      9.014058      0.315909\n",
              "min   -15912.945555    -17.713080      0.000000\n",
              "25%     5840.811284      7.531092      0.000000\n",
              "50%    11096.010410     13.713171      0.000000\n",
              "75%    16587.975903     20.080304      0.000000\n",
              "max    36752.153723     49.106807      1.000000"
            ]
          },
          "metadata": {
            "tags": []
          },
          "execution_count": 497
        }
      ]
    },
    {
      "cell_type": "markdown",
      "metadata": {
        "id": "NUp477W-6WtL",
        "colab_type": "text"
      },
      "source": [
        "**Check for missing values**"
      ]
    },
    {
      "cell_type": "code",
      "metadata": {
        "id": "gye-T_Jr6eHr",
        "colab_type": "code",
        "outputId": "d351f2f1-1c8b-4f6f-921e-744e738dd1e1",
        "colab": {
          "base_uri": "https://localhost:8080/",
          "height": 119
        }
      },
      "source": [
        "np.sum(data_df.isna())"
      ],
      "execution_count": 0,
      "outputs": [
        {
          "output_type": "execute_result",
          "data": {
            "text/plain": [
              "E2 level          0\n",
              "hGH level         0\n",
              "family history    0\n",
              "outcome           0\n",
              "diabetes          0\n",
              "dtype: int64"
            ]
          },
          "metadata": {
            "tags": []
          },
          "execution_count": 498
        }
      ]
    },
    {
      "cell_type": "markdown",
      "metadata": {
        "id": "lllnOA9_6qwh",
        "colab_type": "text"
      },
      "source": [
        "it seems that we don't have any missing values, then we keep all our columns "
      ]
    },
    {
      "cell_type": "markdown",
      "metadata": {
        "id": "Fdx5h67v7Vdf",
        "colab_type": "text"
      },
      "source": [
        "**Exploratory Data Analysis**\n",
        "\n",
        "**Categorization of the Attributes**"
      ]
    },
    {
      "cell_type": "markdown",
      "metadata": {
        "id": "JbbPG4eC9YPn",
        "colab_type": "text"
      },
      "source": [
        "In order to check the type of a column or attribute, let us  print out the first 20 number of values and visually examine them."
      ]
    },
    {
      "cell_type": "code",
      "metadata": {
        "id": "OTjlEunX7owK",
        "colab_type": "code",
        "colab": {}
      },
      "source": [
        "numeric = ['E2 level', 'hGH level']\n",
        "categorical = ['family history', 'diabetes']\n",
        "outcome = ['outome']"
      ],
      "execution_count": 0,
      "outputs": []
    },
    {
      "cell_type": "code",
      "metadata": {
        "id": "RxPDEy719epg",
        "colab_type": "code",
        "outputId": "b6cf8cf0-4f74-4f19-efc3-1d898835cde3",
        "colab": {
          "base_uri": "https://localhost:8080/",
          "height": 204
        }
      },
      "source": [
        "data_df['E2 level'][:5], data_df['hGH level'][:5]"
      ],
      "execution_count": 0,
      "outputs": [
        {
          "output_type": "execute_result",
          "data": {
            "text/plain": [
              "(0     8522.086406\n",
              " 1    17281.680260\n",
              " 2      630.682920\n",
              " 3     2203.150338\n",
              " 4    10457.204723\n",
              " Name: E2 level, dtype: float64, 0    16.210865\n",
              " 1     3.672162\n",
              " 2    24.712037\n",
              " 3    27.982018\n",
              " 4     7.631855\n",
              " Name: hGH level, dtype: float64)"
            ]
          },
          "metadata": {
            "tags": []
          },
          "execution_count": 500
        }
      ]
    },
    {
      "cell_type": "code",
      "metadata": {
        "id": "t4mj4aoW_YLf",
        "colab_type": "code",
        "outputId": "3abc84d6-0e7b-417a-9c22-186633b541f8",
        "colab": {
          "base_uri": "https://localhost:8080/",
          "height": 51
        }
      },
      "source": [
        "data_df['family history'].unique(), data_df['outcome'].unique(), data_df['diabetes'].unique()"
      ],
      "execution_count": 0,
      "outputs": [
        {
          "output_type": "execute_result",
          "data": {
            "text/plain": [
              "(array(['high blood pressure', 'heart disease', 'high cholestrol'],\n",
              "       dtype=object), array([0, 1]), array(['no', 'yes'], dtype=object))"
            ]
          },
          "metadata": {
            "tags": []
          },
          "execution_count": 501
        }
      ]
    },
    {
      "cell_type": "markdown",
      "metadata": {
        "id": "zq9Mmpn3B0Wc",
        "colab_type": "text"
      },
      "source": [
        "**Visualizion of distributions**\n",
        "(1) Continous variables: E2 level & hGH level"
      ]
    },
    {
      "cell_type": "code",
      "metadata": {
        "id": "UL468Mp4B8Gx",
        "colab_type": "code",
        "outputId": "bdaa19cd-a160-4213-9c53-a054686bff43",
        "colab": {
          "base_uri": "https://localhost:8080/",
          "height": 336
        }
      },
      "source": [
        "fig, ax = plt.subplots (1, 2, figsize=(20, 5))\n",
        "# plot histogram of the 'E2 level' column with 10 bins on axis 0\n",
        "ax[0].hist(data_df['E2 level'].dropna().values, bins=10, color='cyan', alpha=0.8)\n",
        "# set the title on axis 0\n",
        "ax[0].set_title('Histogram of estrogen level in the patient s blood stream')\n",
        "\n",
        "# plot histogram of the 'hGH level' column with 10 bins on axis 1\n",
        "ax[1].hist(data_df['hGH level'].dropna(), bins=10, color='yellow', alpha=0.8)\n",
        "# set the title on axis 0\n",
        "ax[1].set_title('Histogram of level of a prescribed hormone in the patient s blood stream')\n",
        "plt.show()"
      ],
      "execution_count": 0,
      "outputs": [
        {
          "output_type": "display_data",
          "data": {
            "image/png": "[encoded data removed]",
            "text/plain": [
              "<Figure size 1440x360 with 2 Axes>"
            ]
          },
          "metadata": {
            "tags": []
          }
        }
      ]
    },
    {
      "cell_type": "markdown",
      "metadata": {
        "id": "AlcCZEpYDryd",
        "colab_type": "text"
      },
      "source": [
        "**Visualizion of distributions**\n",
        "(2) Categorical variables: Family history, Outcome & Diabetes"
      ]
    },
    {
      "cell_type": "code",
      "metadata": {
        "id": "X02xmUJrEDpw",
        "colab_type": "code",
        "outputId": "872730c1-2143-4965-81be-d8e96e372cb4",
        "colab": {
          "base_uri": "https://localhost:8080/",
          "height": 85
        }
      },
      "source": [
        "value_counts = data_df['family history'].value_counts(dropna=True)\n",
        "value_counts\n"
      ],
      "execution_count": 0,
      "outputs": [
        {
          "output_type": "execute_result",
          "data": {
            "text/plain": [
              "high blood pressure    5454\n",
              "heart disease          4729\n",
              "high cholestrol        3443\n",
              "Name: family history, dtype: int64"
            ]
          },
          "metadata": {
            "tags": []
          },
          "execution_count": 503
        }
      ]
    },
    {
      "cell_type": "code",
      "metadata": {
        "id": "sYJfEcJgE8lx",
        "colab_type": "code",
        "outputId": "b55a60ec-fb31-448a-c234-d54ea3466cc5",
        "colab": {
          "base_uri": "https://localhost:8080/",
          "height": 68
        }
      },
      "source": [
        "value_counts = data_df['outcome'].value_counts(dropna=True)\n",
        "value_counts\n"
      ],
      "execution_count": 0,
      "outputs": [
        {
          "output_type": "execute_result",
          "data": {
            "text/plain": [
              "0    12094\n",
              "1     1532\n",
              "Name: outcome, dtype: int64"
            ]
          },
          "metadata": {
            "tags": []
          },
          "execution_count": 504
        }
      ]
    },
    {
      "cell_type": "code",
      "metadata": {
        "id": "2jndSTbOE-Yr",
        "colab_type": "code",
        "outputId": "10ddb8f9-6e6b-4590-ad44-17864cbc5e6e",
        "colab": {
          "base_uri": "https://localhost:8080/",
          "height": 68
        }
      },
      "source": [
        "value_counts = data_df['diabetes'].value_counts(dropna=True)\n",
        "value_counts"
      ],
      "execution_count": 0,
      "outputs": [
        {
          "output_type": "execute_result",
          "data": {
            "text/plain": [
              "no     10686\n",
              "yes     2940\n",
              "Name: diabetes, dtype: int64"
            ]
          },
          "metadata": {
            "tags": []
          },
          "execution_count": 505
        }
      ]
    },
    {
      "cell_type": "markdown",
      "metadata": {
        "id": "noZeSbydFQWg",
        "colab_type": "text"
      },
      "source": [
        "Now we can visualize the counts as a bar graph."
      ]
    },
    {
      "cell_type": "code",
      "metadata": {
        "id": "5DG5hBXwFSHG",
        "colab_type": "code",
        "outputId": "a1fec192-596f-4a75-ce22-ede0c503ab85",
        "colab": {
          "base_uri": "https://localhost:8080/",
          "height": 360
        }
      },
      "source": [
        "fig, ax = plt.subplots (nrows=1, ncols=3, figsize=(20, 5))\n",
        "number_of_values = len(value_counts)\n",
        "# plot bar graph of the 'family history'\n",
        "ax[0].bar(range(number_of_values), value_counts.values, color='orange', alpha=0.8)\n",
        "# set the title on axis 0\n",
        "ax[0].set_title('Bar chart of family history of chronic disease')\n",
        "# draw the correct number of ticks on the x-axis, one for each bar\n",
        "ax[0].set_xticks(range(number_of_values))\n",
        "# rotate the labels of the bars so that they are legible\n",
        "ax[0].set_xticklabels(value_counts.index, rotation='vertical')\n",
        "\n",
        "\n",
        "value_counts = data_df['outcome'].value_counts(dropna=True)\n",
        "number_of_values = len(value_counts)\n",
        "# plot bar graph of the 'outcome'\n",
        "ax[1].bar(range(number_of_values), value_counts.values, color='green', alpha=0.8)\n",
        "# set the title on axis 0\n",
        "ax[1].set_title('Bar chart of whether or not the patient has renal cancer')\n",
        "# draw the correct number of ticks on the x-axis, one for each bar\n",
        "ax[1].set_xticks(range(number_of_values))\n",
        "# rotate the labels of the bars so that they are legible\n",
        "ax[1].set_xticklabels(value_counts.index, rotation='vertical')\n",
        "plt.show()\n",
        "\n",
        "value_counts = data_df['diabetes'].value_counts(dropna=True)\n",
        "number_of_values = len(value_counts)\n",
        "# plot bar graph of the 'diabetes'\n",
        "ax[2].bar(range(number_of_values), value_counts.values, color='red', alpha=0.8)\n",
        "# set the title on axis 0\n",
        "ax[2].set_title('Bar chart of whether or not the patient has diabetes')\n",
        "# draw the correct number of ticks on the x-axis, one for each bar\n",
        "ax[2].set_xticks(range(number_of_values))\n",
        "# rotate the labels of the bars so that they are legible\n",
        "ax[2].set_xticklabels(value_counts.index, rotation='vertical')"
      ],
      "execution_count": 0,
      "outputs": [
        {
          "output_type": "display_data",
          "data": {
            "image/png": "[encoded data removed]",
            "text/plain": [
              "<Figure size 1440x360 with 3 Axes>"
            ]
          },
          "metadata": {
            "tags": []
          }
        },
        {
          "output_type": "execute_result",
          "data": {
            "text/plain": [
              "[Text(0.0, 0, 'no'), Text(0.2, 0, 'yes')]"
            ]
          },
          "metadata": {
            "tags": []
          },
          "execution_count": 506
        }
      ]
    },
    {
      "cell_type": "markdown",
      "metadata": {
        "id": "-H_if_mYNB8d",
        "colab_type": "text"
      },
      "source": [
        "**Dataset cleaning for modeling**\n"
      ]
    },
    {
      "cell_type": "code",
      "metadata": {
        "id": "MxH-T7cuNNH5",
        "colab_type": "code",
        "outputId": "28feba37-4add-45e3-d33e-6536817e1635",
        "colab": {
          "base_uri": "https://localhost:8080/",
          "height": 204
        }
      },
      "source": [
        "# select the numerical columns\n",
        "numeric_columns = data_df[['E2 level', 'hGH level']]\n",
        "# print out the first rows of the numerical dataframe\n",
        "numeric_columns.head()"
      ],
      "execution_count": 0,
      "outputs": [
        {
          "output_type": "execute_result",
          "data": {
            "text/html": [
              "<div>\n",
              "<style scoped>\n",
              "    .dataframe tbody tr th:only-of-type {\n",
              "        vertical-align: middle;\n",
              "    }\n",
              "\n",
              "    .dataframe tbody tr th {\n",
              "        vertical-align: top;\n",
              "    }\n",
              "\n",
              "    .dataframe thead th {\n",
              "        text-align: right;\n",
              "    }\n",
              "</style>\n",
              "<table border=\"1\" class=\"dataframe\">\n",
              "  <thead>\n",
              "    <tr style=\"text-align: right;\">\n",
              "      <th></th>\n",
              "      <th>E2 level</th>\n",
              "      <th>hGH level</th>\n",
              "    </tr>\n",
              "  </thead>\n",
              "  <tbody>\n",
              "    <tr>\n",
              "      <th>0</th>\n",
              "      <td>8522.086406</td>\n",
              "      <td>16.210865</td>\n",
              "    </tr>\n",
              "    <tr>\n",
              "      <th>1</th>\n",
              "      <td>17281.680260</td>\n",
              "      <td>3.672162</td>\n",
              "    </tr>\n",
              "    <tr>\n",
              "      <th>2</th>\n",
              "      <td>630.682920</td>\n",
              "      <td>24.712037</td>\n",
              "    </tr>\n",
              "    <tr>\n",
              "      <th>3</th>\n",
              "      <td>2203.150338</td>\n",
              "      <td>27.982018</td>\n",
              "    </tr>\n",
              "    <tr>\n",
              "      <th>4</th>\n",
              "      <td>10457.204723</td>\n",
              "      <td>7.631855</td>\n",
              "    </tr>\n",
              "  </tbody>\n",
              "</table>\n",
              "</div>"
            ],
            "text/plain": [
              "       E2 level  hGH level\n",
              "0   8522.086406  16.210865\n",
              "1  17281.680260   3.672162\n",
              "2    630.682920  24.712037\n",
              "3   2203.150338  27.982018\n",
              "4  10457.204723   7.631855"
            ]
          },
          "metadata": {
            "tags": []
          },
          "execution_count": 507
        }
      ]
    },
    {
      "cell_type": "code",
      "metadata": {
        "id": "X089PVddOsnb",
        "colab_type": "code",
        "outputId": "d913fc13-e784-4f86-8feb-a07c99fddc93",
        "colab": {
          "base_uri": "https://localhost:8080/",
          "height": 204
        }
      },
      "source": [
        "# convert categorical columns to numerical columns by one-hot encoding\n",
        "one_hot_categorical = pd.get_dummies(categorical_columns, prefix=['family history', 'diabetes'])\n",
        "# print out the first rows of the one-hot encoded dataframe\n",
        "one_hot_categorical.head()"
      ],
      "execution_count": 0,
      "outputs": [
        {
          "output_type": "execute_result",
          "data": {
            "text/html": [
              "<div>\n",
              "<style scoped>\n",
              "    .dataframe tbody tr th:only-of-type {\n",
              "        vertical-align: middle;\n",
              "    }\n",
              "\n",
              "    .dataframe tbody tr th {\n",
              "        vertical-align: top;\n",
              "    }\n",
              "\n",
              "    .dataframe thead th {\n",
              "        text-align: right;\n",
              "    }\n",
              "</style>\n",
              "<table border=\"1\" class=\"dataframe\">\n",
              "  <thead>\n",
              "    <tr style=\"text-align: right;\">\n",
              "      <th></th>\n",
              "      <th>family history_heart disease</th>\n",
              "      <th>family history_high blood pressure</th>\n",
              "      <th>family history_high cholestrol</th>\n",
              "      <th>diabetes_no</th>\n",
              "      <th>diabetes_yes</th>\n",
              "    </tr>\n",
              "  </thead>\n",
              "  <tbody>\n",
              "    <tr>\n",
              "      <th>0</th>\n",
              "      <td>0</td>\n",
              "      <td>1</td>\n",
              "      <td>0</td>\n",
              "      <td>1</td>\n",
              "      <td>0</td>\n",
              "    </tr>\n",
              "    <tr>\n",
              "      <th>1</th>\n",
              "      <td>1</td>\n",
              "      <td>0</td>\n",
              "      <td>0</td>\n",
              "      <td>1</td>\n",
              "      <td>0</td>\n",
              "    </tr>\n",
              "    <tr>\n",
              "      <th>2</th>\n",
              "      <td>0</td>\n",
              "      <td>0</td>\n",
              "      <td>1</td>\n",
              "      <td>0</td>\n",
              "      <td>1</td>\n",
              "    </tr>\n",
              "    <tr>\n",
              "      <th>3</th>\n",
              "      <td>0</td>\n",
              "      <td>0</td>\n",
              "      <td>1</td>\n",
              "      <td>0</td>\n",
              "      <td>1</td>\n",
              "    </tr>\n",
              "    <tr>\n",
              "      <th>4</th>\n",
              "      <td>1</td>\n",
              "      <td>0</td>\n",
              "      <td>0</td>\n",
              "      <td>1</td>\n",
              "      <td>0</td>\n",
              "    </tr>\n",
              "  </tbody>\n",
              "</table>\n",
              "</div>"
            ],
            "text/plain": [
              "   family history_heart disease  ...  diabetes_yes\n",
              "0                             0  ...             0\n",
              "1                             1  ...             0\n",
              "2                             0  ...             1\n",
              "3                             0  ...             1\n",
              "4                             1  ...             0\n",
              "\n",
              "[5 rows x 5 columns]"
            ]
          },
          "metadata": {
            "tags": []
          },
          "execution_count": 508
        }
      ]
    },
    {
      "cell_type": "code",
      "metadata": {
        "id": "vPVY9FPQPCNp",
        "colab_type": "code",
        "outputId": "203fc867-cc69-4e60-d5f8-3e83f3b33399",
        "colab": {
          "base_uri": "https://localhost:8080/",
          "height": 204
        }
      },
      "source": [
        "# concatenate numerical columns and one-hot-encoded categorical columns\n",
        "covariates = pd.concat([numeric_columns, one_hot_categorical], axis=1)\n",
        "# print out the first rows of this new dataframe\n",
        "covariates.head()"
      ],
      "execution_count": 0,
      "outputs": [
        {
          "output_type": "execute_result",
          "data": {
            "text/html": [
              "<div>\n",
              "<style scoped>\n",
              "    .dataframe tbody tr th:only-of-type {\n",
              "        vertical-align: middle;\n",
              "    }\n",
              "\n",
              "    .dataframe tbody tr th {\n",
              "        vertical-align: top;\n",
              "    }\n",
              "\n",
              "    .dataframe thead th {\n",
              "        text-align: right;\n",
              "    }\n",
              "</style>\n",
              "<table border=\"1\" class=\"dataframe\">\n",
              "  <thead>\n",
              "    <tr style=\"text-align: right;\">\n",
              "      <th></th>\n",
              "      <th>E2 level</th>\n",
              "      <th>hGH level</th>\n",
              "      <th>family history_heart disease</th>\n",
              "      <th>family history_high blood pressure</th>\n",
              "      <th>family history_high cholestrol</th>\n",
              "      <th>diabetes_no</th>\n",
              "      <th>diabetes_yes</th>\n",
              "    </tr>\n",
              "  </thead>\n",
              "  <tbody>\n",
              "    <tr>\n",
              "      <th>0</th>\n",
              "      <td>8522.086406</td>\n",
              "      <td>16.210865</td>\n",
              "      <td>0</td>\n",
              "      <td>1</td>\n",
              "      <td>0</td>\n",
              "      <td>1</td>\n",
              "      <td>0</td>\n",
              "    </tr>\n",
              "    <tr>\n",
              "      <th>1</th>\n",
              "      <td>17281.680260</td>\n",
              "      <td>3.672162</td>\n",
              "      <td>1</td>\n",
              "      <td>0</td>\n",
              "      <td>0</td>\n",
              "      <td>1</td>\n",
              "      <td>0</td>\n",
              "    </tr>\n",
              "    <tr>\n",
              "      <th>2</th>\n",
              "      <td>630.682920</td>\n",
              "      <td>24.712037</td>\n",
              "      <td>0</td>\n",
              "      <td>0</td>\n",
              "      <td>1</td>\n",
              "      <td>0</td>\n",
              "      <td>1</td>\n",
              "    </tr>\n",
              "    <tr>\n",
              "      <th>3</th>\n",
              "      <td>2203.150338</td>\n",
              "      <td>27.982018</td>\n",
              "      <td>0</td>\n",
              "      <td>0</td>\n",
              "      <td>1</td>\n",
              "      <td>0</td>\n",
              "      <td>1</td>\n",
              "    </tr>\n",
              "    <tr>\n",
              "      <th>4</th>\n",
              "      <td>10457.204723</td>\n",
              "      <td>7.631855</td>\n",
              "      <td>1</td>\n",
              "      <td>0</td>\n",
              "      <td>0</td>\n",
              "      <td>1</td>\n",
              "      <td>0</td>\n",
              "    </tr>\n",
              "  </tbody>\n",
              "</table>\n",
              "</div>"
            ],
            "text/plain": [
              "       E2 level  hGH level  ...  diabetes_no  diabetes_yes\n",
              "0   8522.086406  16.210865  ...            1             0\n",
              "1  17281.680260   3.672162  ...            1             0\n",
              "2    630.682920  24.712037  ...            0             1\n",
              "3   2203.150338  27.982018  ...            0             1\n",
              "4  10457.204723   7.631855  ...            1             0\n",
              "\n",
              "[5 rows x 7 columns]"
            ]
          },
          "metadata": {
            "tags": []
          },
          "execution_count": 509
        }
      ]
    },
    {
      "cell_type": "code",
      "metadata": {
        "id": "_IPBK-FLNsk_",
        "colab_type": "code",
        "outputId": "9a1b6e56-4228-452c-8102-80f035eb9668",
        "colab": {
          "base_uri": "https://localhost:8080/",
          "height": 204
        }
      },
      "source": [
        "# select the categorical columns\n",
        "categorical_columns = data_df[['family history', 'diabetes']]\n",
        "# print out the first rows of the categorical dataframe\n",
        "categorical_columns.head()"
      ],
      "execution_count": 0,
      "outputs": [
        {
          "output_type": "execute_result",
          "data": {
            "text/html": [
              "<div>\n",
              "<style scoped>\n",
              "    .dataframe tbody tr th:only-of-type {\n",
              "        vertical-align: middle;\n",
              "    }\n",
              "\n",
              "    .dataframe tbody tr th {\n",
              "        vertical-align: top;\n",
              "    }\n",
              "\n",
              "    .dataframe thead th {\n",
              "        text-align: right;\n",
              "    }\n",
              "</style>\n",
              "<table border=\"1\" class=\"dataframe\">\n",
              "  <thead>\n",
              "    <tr style=\"text-align: right;\">\n",
              "      <th></th>\n",
              "      <th>family history</th>\n",
              "      <th>diabetes</th>\n",
              "    </tr>\n",
              "  </thead>\n",
              "  <tbody>\n",
              "    <tr>\n",
              "      <th>0</th>\n",
              "      <td>high blood pressure</td>\n",
              "      <td>no</td>\n",
              "    </tr>\n",
              "    <tr>\n",
              "      <th>1</th>\n",
              "      <td>heart disease</td>\n",
              "      <td>no</td>\n",
              "    </tr>\n",
              "    <tr>\n",
              "      <th>2</th>\n",
              "      <td>high cholestrol</td>\n",
              "      <td>yes</td>\n",
              "    </tr>\n",
              "    <tr>\n",
              "      <th>3</th>\n",
              "      <td>high cholestrol</td>\n",
              "      <td>yes</td>\n",
              "    </tr>\n",
              "    <tr>\n",
              "      <th>4</th>\n",
              "      <td>heart disease</td>\n",
              "      <td>no</td>\n",
              "    </tr>\n",
              "  </tbody>\n",
              "</table>\n",
              "</div>"
            ],
            "text/plain": [
              "        family history diabetes\n",
              "0  high blood pressure       no\n",
              "1        heart disease       no\n",
              "2      high cholestrol      yes\n",
              "3      high cholestrol      yes\n",
              "4        heart disease       no"
            ]
          },
          "metadata": {
            "tags": []
          },
          "execution_count": 510
        }
      ]
    },
    {
      "cell_type": "code",
      "metadata": {
        "id": "yGdpJSYZkJLQ",
        "colab_type": "code",
        "outputId": "821e5f08-8782-4ad7-c6ce-e17c9a052a3e",
        "colab": {
          "base_uri": "https://localhost:8080/",
          "height": 119
        }
      },
      "source": [
        "np.sum(data_df.isna())"
      ],
      "execution_count": 0,
      "outputs": [
        {
          "output_type": "execute_result",
          "data": {
            "text/plain": [
              "E2 level          0\n",
              "hGH level         0\n",
              "family history    0\n",
              "outcome           0\n",
              "diabetes          0\n",
              "dtype: int64"
            ]
          },
          "metadata": {
            "tags": []
          },
          "execution_count": 511
        }
      ]
    },
    {
      "cell_type": "code",
      "metadata": {
        "id": "C5gldbbbQ_PF",
        "colab_type": "code",
        "colab": {}
      },
      "source": [
        "# replace the NaN values in x with zero\n",
        "covariates = covariates.fillna(0)\n",
        "# get the values of the covariates\n",
        "x = covariates"
      ],
      "execution_count": 0,
      "outputs": []
    },
    {
      "cell_type": "markdown",
      "metadata": {
        "id": "ffcoLlOhRPcZ",
        "colab_type": "text"
      },
      "source": [
        "**Preparing the targets**"
      ]
    },
    {
      "cell_type": "code",
      "metadata": {
        "id": "rbevHjTTRtmg",
        "colab_type": "code",
        "outputId": "fc69a213-b775-466c-ca92-de26e0e9b1fc",
        "colab": {
          "base_uri": "https://localhost:8080/",
          "height": 34
        }
      },
      "source": [
        "# extract the column that contains our target\n",
        "target = data_df['outcome'].values\n",
        "# print out the first 10 values as a sanity check\n",
        "target[:10]"
      ],
      "execution_count": 0,
      "outputs": [
        {
          "output_type": "execute_result",
          "data": {
            "text/plain": [
              "array([0, 0, 0, 0, 0, 0, 0, 0, 0, 0])"
            ]
          },
          "metadata": {
            "tags": []
          },
          "execution_count": 513
        }
      ]
    },
    {
      "cell_type": "code",
      "metadata": {
        "id": "d_8hcxsrSzuD",
        "colab_type": "code",
        "colab": {}
      },
      "source": [
        "# convery the 0, 1 values in the label into integers\n",
        "y = target.astype(int)"
      ],
      "execution_count": 0,
      "outputs": []
    },
    {
      "cell_type": "markdown",
      "metadata": {
        "id": "Xoi_2knLMHj3",
        "colab_type": "text"
      },
      "source": [
        "**Building Regression Models**\n",
        " \n",
        "(1)**Fit and Evaluate a Polynomial Logistic Regression Model to the data**\n"
      ]
    },
    {
      "cell_type": "code",
      "metadata": {
        "id": "8HN9eDluMS7y",
        "colab_type": "code",
        "colab": {}
      },
      "source": [
        "# split our data into training and testing data\n",
        "x_train, x_test, y_train, y_test = train_test_split(x, y, test_size=0.33, random_state=0)"
      ],
      "execution_count": 0,
      "outputs": []
    },
    {
      "cell_type": "code",
      "metadata": {
        "id": "TEgNTUKfTkhO",
        "colab_type": "code",
        "colab": {}
      },
      "source": [
        "# set the polynomial degree\n",
        "degree_of_polynomial = 1\n",
        "# make an instance of the sklearn model for transforming features into polynomial features\n",
        "polynomial_transform = PolynomialFeatures(degree_of_polynomial, include_bias=False)\n",
        "# make an instand of the sklearn minmax scaler to scale our data to the same range of values\n",
        "scaler = MinMaxScaler()\n",
        "# make an instance of the linear regression model, alpha is the strength of the penalty\n",
        "logistic = LogisticRegression(C=1.)"
      ],
      "execution_count": 0,
      "outputs": []
    },
    {
      "cell_type": "code",
      "metadata": {
        "id": "MgVkcZUmTp08",
        "colab_type": "code",
        "colab": {}
      },
      "source": [
        "polynomial_transform.fit(x_train)\n",
        "# transform x_train to polynomial x_train\n",
        "x_train_poly = polynomial_transform.transform(x_train)\n",
        "# transform x_test to polynomial x_test\n",
        "x_test_poly = polynomial_transform.transform(x_test)"
      ],
      "execution_count": 0,
      "outputs": []
    },
    {
      "cell_type": "code",
      "metadata": {
        "id": "JK9-O1dJTt_C",
        "colab_type": "code",
        "colab": {}
      },
      "source": [
        "scaler.fit(x_train_poly)\n",
        "# scale polynomial features of the training data\n",
        "x_train_poly_scaled = scaler.transform(x_train_poly)\n",
        "# scale polynomial features of the testing data\n",
        "x_test_poly_scaled = scaler.transform(x_test_poly)"
      ],
      "execution_count": 0,
      "outputs": []
    },
    {
      "cell_type": "code",
      "metadata": {
        "id": "5RfwWNvvTz8L",
        "colab_type": "code",
        "outputId": "c5d7fd98-f64a-470b-856f-5bcc958b631b",
        "colab": {
          "base_uri": "https://localhost:8080/",
          "height": 156
        }
      },
      "source": [
        "# fit a linear regression model to the polynomial features\n",
        "logistic.fit(x_train_poly, y_train)"
      ],
      "execution_count": 0,
      "outputs": [
        {
          "output_type": "stream",
          "text": [
            "/usr/local/lib/python3.6/dist-packages/sklearn/linear_model/logistic.py:432: FutureWarning: Default solver will be changed to 'lbfgs' in 0.22. Specify a solver to silence this warning.\n",
            "  FutureWarning)\n"
          ],
          "name": "stderr"
        },
        {
          "output_type": "execute_result",
          "data": {
            "text/plain": [
              "LogisticRegression(C=1.0, class_weight=None, dual=False, fit_intercept=True,\n",
              "                   intercept_scaling=1, l1_ratio=None, max_iter=100,\n",
              "                   multi_class='warn', n_jobs=None, penalty='l2',\n",
              "                   random_state=None, solver='warn', tol=0.0001, verbose=0,\n",
              "                   warm_start=False)"
            ]
          },
          "metadata": {
            "tags": []
          },
          "execution_count": 519
        }
      ]
    },
    {
      "cell_type": "markdown",
      "metadata": {
        "id": "2YZjzZFzT_5g",
        "colab_type": "text"
      },
      "source": [
        "**Evaluation of  the Accuracy of Our Classifier on Testing and Training data**"
      ]
    },
    {
      "cell_type": "code",
      "metadata": {
        "id": "mfkAtU59UFPI",
        "colab_type": "code",
        "outputId": "51bb3b9e-e4b5-4fd4-e556-135c7ea8a6fd",
        "colab": {
          "base_uri": "https://localhost:8080/",
          "height": 51
        }
      },
      "source": [
        "### evaluate the training and testing performance of your model \n",
        "# test accuracy\n",
        "print('Train accuracy:', logistic.score(x_train_poly, y_train))\n",
        "\n",
        "# test accuracy\n",
        "print('Test accuracy:', logistic.score(x_test_poly, y_test))"
      ],
      "execution_count": 0,
      "outputs": [
        {
          "output_type": "stream",
          "text": [
            "Train accuracy: 0.8959360280425019\n",
            "Test accuracy: 0.9072715143428952\n"
          ],
          "name": "stdout"
        }
      ]
    },
    {
      "cell_type": "markdown",
      "metadata": {
        "id": "BC7FuM1bVMmF",
        "colab_type": "text"
      },
      "source": [
        "**Compare Metrics for Evaluating Classifiers**"
      ]
    },
    {
      "cell_type": "code",
      "metadata": {
        "id": "_g1-lTzQVSBF",
        "colab_type": "code",
        "outputId": "7933fbbd-caad-4922-866e-a57287c30e87",
        "colab": {
          "base_uri": "https://localhost:8080/",
          "height": 51
        }
      },
      "source": [
        "# predict using your model\n",
        "y_train_predict = logistic.predict(x_train_poly)\n",
        "# test accuracy\n",
        "print('Train AUC:', roc_auc_score(y_train, y_train_predict))\n",
        "# predict using your model\n",
        "y_test_predict = logistic.predict(x_test_poly)\n",
        "# test accuracy\n",
        "print('Test AUC:', roc_auc_score(y_test, y_test_predict))"
      ],
      "execution_count": 0,
      "outputs": [
        {
          "output_type": "stream",
          "text": [
            "Train AUC: 0.652171430533868\n",
            "Test AUC: 0.6738608040260933\n"
          ],
          "name": "stdout"
        }
      ]
    },
    {
      "cell_type": "code",
      "metadata": {
        "id": "hHwOWDvrV0Px",
        "colab_type": "code",
        "outputId": "b2029fe6-67ef-4d0e-bba6-6c0d85c783f8",
        "colab": {
          "base_uri": "https://localhost:8080/",
          "height": 68
        }
      },
      "source": [
        "# test confusion matrix\n",
        "print('Confusion matrix for the classification on test:\\n', confusion_matrix(y_test, y_test_predict))"
      ],
      "execution_count": 0,
      "outputs": [
        {
          "output_type": "stream",
          "text": [
            "Confusion matrix for the classification on test:\n",
            " [[3892  101]\n",
            " [ 316  188]]\n"
          ],
          "name": "stdout"
        }
      ]
    },
    {
      "cell_type": "markdown",
      "metadata": {
        "id": "UjiEx39IW9lX",
        "colab_type": "text"
      },
      "source": [
        "**Addressing Class Imbalance**"
      ]
    },
    {
      "cell_type": "code",
      "metadata": {
        "id": "lm7RzyFwW_Wh",
        "colab_type": "code",
        "colab": {}
      },
      "source": [
        "weights = {0: 1, 1: 8}\n",
        "logistic = LogisticRegression(C=1., class_weight=weights)"
      ],
      "execution_count": 0,
      "outputs": []
    },
    {
      "cell_type": "code",
      "metadata": {
        "id": "XDaBw-eG6T7a",
        "colab_type": "code",
        "outputId": "2ee18df2-54d5-4a1f-f75a-afe60cc99aaa",
        "colab": {
          "base_uri": "https://localhost:8080/",
          "height": 156
        }
      },
      "source": [
        "# fit a linear regression model to the polynomial features\n",
        "logistic.fit(x_train_poly, y_train)"
      ],
      "execution_count": 0,
      "outputs": [
        {
          "output_type": "stream",
          "text": [
            "/usr/local/lib/python3.6/dist-packages/sklearn/linear_model/logistic.py:432: FutureWarning: Default solver will be changed to 'lbfgs' in 0.22. Specify a solver to silence this warning.\n",
            "  FutureWarning)\n"
          ],
          "name": "stderr"
        },
        {
          "output_type": "execute_result",
          "data": {
            "text/plain": [
              "LogisticRegression(C=1.0, class_weight={0: 1, 1: 8}, dual=False,\n",
              "                   fit_intercept=True, intercept_scaling=1, l1_ratio=None,\n",
              "                   max_iter=100, multi_class='warn', n_jobs=None, penalty='l2',\n",
              "                   random_state=None, solver='warn', tol=0.0001, verbose=0,\n",
              "                   warm_start=False)"
            ]
          },
          "metadata": {
            "tags": []
          },
          "execution_count": 524
        }
      ]
    },
    {
      "cell_type": "code",
      "metadata": {
        "id": "qlfNQPrlZyV4",
        "colab_type": "code",
        "outputId": "dfd63a4c-0c82-470c-df19-21ff87fc67e4",
        "colab": {
          "base_uri": "https://localhost:8080/",
          "height": 51
        }
      },
      "source": [
        "# predict using your model\n",
        "y_train_predict = logistic.predict(x_train_poly)\n",
        "# test accuracy\n",
        "print('Train AUC:', roc_auc_score(y_train, y_train_predict))\n",
        "# predict using your model\n",
        "y_test_predict = logistic.predict(x_test_poly)\n",
        "# test accuracy\n",
        "print('Test AUC:', roc_auc_score(y_test, y_test_predict))"
      ],
      "execution_count": 0,
      "outputs": [
        {
          "output_type": "stream",
          "text": [
            "Train AUC: 0.8832669814986571\n",
            "Test AUC: 0.889414362038329\n"
          ],
          "name": "stdout"
        }
      ]
    },
    {
      "cell_type": "code",
      "metadata": {
        "id": "F_SO6O2aaOwg",
        "colab_type": "code",
        "outputId": "92657a50-f587-4ab7-dc4d-7c2159fe8d1d",
        "colab": {
          "base_uri": "https://localhost:8080/",
          "height": 68
        }
      },
      "source": [
        "# test confusion matrix\n",
        "print('Confusion matrix for the classification on test:\\n', confusion_matrix(y_test, y_test_predict))"
      ],
      "execution_count": 0,
      "outputs": [
        {
          "output_type": "stream",
          "text": [
            "Confusion matrix for the classification on test:\n",
            " [[3403  590]\n",
            " [  37  467]]\n"
          ],
          "name": "stdout"
        }
      ]
    },
    {
      "cell_type": "markdown",
      "metadata": {
        "id": "ONa2ImCXZDBd",
        "colab_type": "text"
      },
      "source": [
        "**Interpreting Classifiers**"
      ]
    },
    {
      "cell_type": "code",
      "metadata": {
        "id": "gdwK9AaUv4bX",
        "colab_type": "code",
        "outputId": "810f5198-8211-4ace-9367-90719b648d89",
        "colab": {
          "base_uri": "https://localhost:8080/",
          "height": 102
        }
      },
      "source": [
        "# get the names of the covariates\n",
        "feature_names = covariates.columns\n",
        "feature_coefficients = logistic.coef_\n",
        "\n",
        "# create a pandas series to store the covariate names and their coefficient values\n",
        "feature_importance = pd.Series(feature_coefficients.flatten(), index=feature_names)\n",
        "\n",
        "# order the covariates by the absolute value of their coefficients in descending order\n",
        "sorted_names = feature_importance.apply(np.abs).sort_values(ascending=False).index\n",
        "\n",
        "# print the covariates with the top 5 largest coefficients\n",
        "for name in sorted_names[:5]:\n",
        "  print('coefficient of {}: {}'.format(name, feature_importance[name]))"
      ],
      "execution_count": 0,
      "outputs": [
        {
          "output_type": "stream",
          "text": [
            "coefficient of diabetes_no: -1.5991151662179988\n",
            "coefficient of family history_high blood pressure: -1.0617497397027547\n",
            "coefficient of family history_heart disease: -0.48625249960662015\n",
            "coefficient of family history_high cholestrol: -0.4616378272285787\n",
            "coefficient of diabetes_yes: -0.4105249003199233\n"
          ],
          "name": "stdout"
        }
      ]
    },
    {
      "cell_type": "code",
      "metadata": {
        "id": "jWJ5Zm0wv9co",
        "colab_type": "code",
        "outputId": "6ee1e050-38f2-4df3-d696-a7921d7af580",
        "colab": {
          "base_uri": "https://localhost:8080/",
          "height": 34
        }
      },
      "source": [
        "print('the bias term of the logistic regression is: {}'.format(logistic.intercept_[0]))"
      ],
      "execution_count": 0,
      "outputs": [
        {
          "output_type": "stream",
          "text": [
            "the bias term of the logistic regression is: -2.009640066537938\n"
          ],
          "name": "stdout"
        }
      ]
    },
    {
      "cell_type": "markdown",
      "metadata": {
        "id": "vPRKxZkVZFhT",
        "colab_type": "text"
      },
      "source": [
        "**Comparing Different Models of Classification**"
      ]
    },
    {
      "cell_type": "markdown",
      "metadata": {
        "id": "4Yaf8F7WehgS",
        "colab_type": "text"
      },
      "source": [
        "**Model 1: Decision tree**"
      ]
    },
    {
      "cell_type": "code",
      "metadata": {
        "id": "AWAzCf_RZJ9s",
        "colab_type": "code",
        "outputId": "110a798f-29d3-4217-f683-d71ed86ed208",
        "colab": {
          "base_uri": "https://localhost:8080/",
          "height": 119
        }
      },
      "source": [
        "from sklearn.tree import DecisionTreeClassifier as DecisionTree\n",
        "tree = DecisionTree(max_depth=10, random_state=0)\n",
        "tree.fit(x_train, y_train) "
      ],
      "execution_count": 0,
      "outputs": [
        {
          "output_type": "execute_result",
          "data": {
            "text/plain": [
              "DecisionTreeClassifier(class_weight=None, criterion='gini', max_depth=10,\n",
              "                       max_features=None, max_leaf_nodes=None,\n",
              "                       min_impurity_decrease=0.0, min_impurity_split=None,\n",
              "                       min_samples_leaf=1, min_samples_split=2,\n",
              "                       min_weight_fraction_leaf=0.0, presort=False,\n",
              "                       random_state=0, splitter='best')"
            ]
          },
          "metadata": {
            "tags": []
          },
          "execution_count": 529
        }
      ]
    },
    {
      "cell_type": "code",
      "metadata": {
        "id": "K5AXAZi0eKMS",
        "colab_type": "code",
        "outputId": "ef93e9b5-d4a7-4e71-993a-58851f3ced46",
        "colab": {
          "base_uri": "https://localhost:8080/",
          "height": 156
        }
      },
      "source": [
        "# fit a linear regression model to the polynomial features\n",
        "logistic.fit(x_train_poly, y_train)"
      ],
      "execution_count": 0,
      "outputs": [
        {
          "output_type": "stream",
          "text": [
            "/usr/local/lib/python3.6/dist-packages/sklearn/linear_model/logistic.py:432: FutureWarning: Default solver will be changed to 'lbfgs' in 0.22. Specify a solver to silence this warning.\n",
            "  FutureWarning)\n"
          ],
          "name": "stderr"
        },
        {
          "output_type": "execute_result",
          "data": {
            "text/plain": [
              "LogisticRegression(C=1.0, class_weight={0: 1, 1: 8}, dual=False,\n",
              "                   fit_intercept=True, intercept_scaling=1, l1_ratio=None,\n",
              "                   max_iter=100, multi_class='warn', n_jobs=None, penalty='l2',\n",
              "                   random_state=None, solver='warn', tol=0.0001, verbose=0,\n",
              "                   warm_start=False)"
            ]
          },
          "metadata": {
            "tags": []
          },
          "execution_count": 530
        }
      ]
    },
    {
      "cell_type": "code",
      "metadata": {
        "id": "wFE1bMjXeRO7",
        "colab_type": "code",
        "outputId": "2fc66d86-2463-4baf-fe81-59a272bd90db",
        "colab": {
          "base_uri": "https://localhost:8080/",
          "height": 51
        }
      },
      "source": [
        "# predict using your model\n",
        "y_train_predict = tree.predict(x_train_poly)\n",
        "# test accuracy\n",
        "print('Train AUC:', roc_auc_score(y_train, y_train_predict))\n",
        "# predict using your model\n",
        "y_test_predict = tree.predict(x_test_poly)\n",
        "# test accuracy\n",
        "print('Test AUC:', roc_auc_score(y_test, y_test_predict))"
      ],
      "execution_count": 0,
      "outputs": [
        {
          "output_type": "stream",
          "text": [
            "Train AUC: 0.7774378265257159\n",
            "Test AUC: 0.6827215484240277\n"
          ],
          "name": "stdout"
        }
      ]
    },
    {
      "cell_type": "code",
      "metadata": {
        "id": "fwyhz9q-fEG7",
        "colab_type": "code",
        "outputId": "620848b6-02b5-4adb-e2cb-f73724440fc3",
        "colab": {
          "base_uri": "https://localhost:8080/",
          "height": 68
        }
      },
      "source": [
        "# test confusion matrix\n",
        "print('Confusion matrix for the classification on test:\\n', confusion_matrix(y_test, y_test_predict))"
      ],
      "execution_count": 0,
      "outputs": [
        {
          "output_type": "stream",
          "text": [
            "Confusion matrix for the classification on test:\n",
            " [[3836  157]\n",
            " [ 300  204]]\n"
          ],
          "name": "stdout"
        }
      ]
    },
    {
      "cell_type": "markdown",
      "metadata": {
        "id": "oGQsvfoFerPz",
        "colab_type": "text"
      },
      "source": [
        "**Model 2: Random forest**"
      ]
    },
    {
      "cell_type": "code",
      "metadata": {
        "id": "xuwLUYxEcgyl",
        "colab_type": "code",
        "outputId": "e595405b-4fec-450d-fde7-a359c8acb571",
        "colab": {
          "base_uri": "https://localhost:8080/",
          "height": 136
        }
      },
      "source": [
        "from sklearn.ensemble import RandomForestClassifier as RandomForest\n",
        "forest = RandomForest(n_estimators=100, max_depth=100, random_state=0)\n",
        "forest.fit(x_train, y_train) "
      ],
      "execution_count": 0,
      "outputs": [
        {
          "output_type": "execute_result",
          "data": {
            "text/plain": [
              "RandomForestClassifier(bootstrap=True, class_weight=None, criterion='gini',\n",
              "                       max_depth=100, max_features='auto', max_leaf_nodes=None,\n",
              "                       min_impurity_decrease=0.0, min_impurity_split=None,\n",
              "                       min_samples_leaf=1, min_samples_split=2,\n",
              "                       min_weight_fraction_leaf=0.0, n_estimators=100,\n",
              "                       n_jobs=None, oob_score=False, random_state=0, verbose=0,\n",
              "                       warm_start=False)"
            ]
          },
          "metadata": {
            "tags": []
          },
          "execution_count": 533
        }
      ]
    },
    {
      "cell_type": "code",
      "metadata": {
        "id": "IHg8d7kDfpwl",
        "colab_type": "code",
        "outputId": "c54730f6-fb52-42d6-a1b2-fae3c843823a",
        "colab": {
          "base_uri": "https://localhost:8080/",
          "height": 156
        }
      },
      "source": [
        "# fit a linear regression model to the polynomial features\n",
        "logistic.fit(x_train_poly, y_train)"
      ],
      "execution_count": 0,
      "outputs": [
        {
          "output_type": "stream",
          "text": [
            "/usr/local/lib/python3.6/dist-packages/sklearn/linear_model/logistic.py:432: FutureWarning: Default solver will be changed to 'lbfgs' in 0.22. Specify a solver to silence this warning.\n",
            "  FutureWarning)\n"
          ],
          "name": "stderr"
        },
        {
          "output_type": "execute_result",
          "data": {
            "text/plain": [
              "LogisticRegression(C=1.0, class_weight={0: 1, 1: 8}, dual=False,\n",
              "                   fit_intercept=True, intercept_scaling=1, l1_ratio=None,\n",
              "                   max_iter=100, multi_class='warn', n_jobs=None, penalty='l2',\n",
              "                   random_state=None, solver='warn', tol=0.0001, verbose=0,\n",
              "                   warm_start=False)"
            ]
          },
          "metadata": {
            "tags": []
          },
          "execution_count": 534
        }
      ]
    },
    {
      "cell_type": "code",
      "metadata": {
        "id": "2tFoc1cmfynv",
        "colab_type": "code",
        "outputId": "1a98f5b6-21fc-4e98-c371-1ac20e4ca936",
        "colab": {
          "base_uri": "https://localhost:8080/",
          "height": 51
        }
      },
      "source": [
        "# predict using your model\n",
        "y_train_predict = forest.predict(x_train_poly)\n",
        "# test accuracy\n",
        "print('Train AUC:', roc_auc_score(y_train, y_train_predict))\n",
        "# predict using your model\n",
        "y_test_predict = forest.predict(x_test_poly)\n",
        "# test accuracy\n",
        "print('Test AUC:', roc_auc_score(y_test, y_test_predict))"
      ],
      "execution_count": 0,
      "outputs": [
        {
          "output_type": "stream",
          "text": [
            "Train AUC: 1.0\n",
            "Test AUC: 0.7112409514269019\n"
          ],
          "name": "stdout"
        }
      ]
    },
    {
      "cell_type": "code",
      "metadata": {
        "id": "84nk97MVf4qg",
        "colab_type": "code",
        "outputId": "43ab5a26-66f5-4ea1-b3aa-8aa822e8810d",
        "colab": {
          "base_uri": "https://localhost:8080/",
          "height": 68
        }
      },
      "source": [
        "# test confusion matrix\n",
        "print('Confusion matrix for the classification on test:\\n', confusion_matrix(y_test, y_test_predict))"
      ],
      "execution_count": 0,
      "outputs": [
        {
          "output_type": "stream",
          "text": [
            "Confusion matrix for the classification on test:\n",
            " [[3834  159]\n",
            " [ 271  233]]\n"
          ],
          "name": "stdout"
        }
      ]
    },
    {
      "cell_type": "markdown",
      "metadata": {
        "id": "kYgf5F0we3s8",
        "colab_type": "text"
      },
      "source": [
        "**Model 3:AdaBoost model**"
      ]
    },
    {
      "cell_type": "code",
      "metadata": {
        "id": "RHAoWFX6dEy1",
        "colab_type": "code",
        "outputId": "3cab060e-8066-4e96-b234-35b6f15b5e7f",
        "colab": {
          "base_uri": "https://localhost:8080/",
          "height": 51
        }
      },
      "source": [
        "from sklearn.ensemble import AdaBoostClassifier\n",
        "ada_boost = AdaBoostClassifier(n_estimators=100, random_state=0)\n",
        "ada_boost.fit(x_train, y_train)"
      ],
      "execution_count": 0,
      "outputs": [
        {
          "output_type": "execute_result",
          "data": {
            "text/plain": [
              "AdaBoostClassifier(algorithm='SAMME.R', base_estimator=None, learning_rate=1.0,\n",
              "                   n_estimators=100, random_state=0)"
            ]
          },
          "metadata": {
            "tags": []
          },
          "execution_count": 537
        }
      ]
    },
    {
      "cell_type": "code",
      "metadata": {
        "id": "6sRNGVTKjntf",
        "colab_type": "code",
        "outputId": "7d1d0bae-63d6-4b63-a324-54c1ae70b5f7",
        "colab": {
          "base_uri": "https://localhost:8080/",
          "height": 156
        }
      },
      "source": [
        "# fit a linear regression model to the polynomial features\n",
        "logistic.fit(x_train_poly, y_train)"
      ],
      "execution_count": 0,
      "outputs": [
        {
          "output_type": "stream",
          "text": [
            "/usr/local/lib/python3.6/dist-packages/sklearn/linear_model/logistic.py:432: FutureWarning: Default solver will be changed to 'lbfgs' in 0.22. Specify a solver to silence this warning.\n",
            "  FutureWarning)\n"
          ],
          "name": "stderr"
        },
        {
          "output_type": "execute_result",
          "data": {
            "text/plain": [
              "LogisticRegression(C=1.0, class_weight={0: 1, 1: 8}, dual=False,\n",
              "                   fit_intercept=True, intercept_scaling=1, l1_ratio=None,\n",
              "                   max_iter=100, multi_class='warn', n_jobs=None, penalty='l2',\n",
              "                   random_state=None, solver='warn', tol=0.0001, verbose=0,\n",
              "                   warm_start=False)"
            ]
          },
          "metadata": {
            "tags": []
          },
          "execution_count": 538
        }
      ]
    },
    {
      "cell_type": "code",
      "metadata": {
        "id": "7Ap22IWVjtu3",
        "colab_type": "code",
        "outputId": "a732bc13-dcb9-4701-99a6-48e2da88d975",
        "colab": {
          "base_uri": "https://localhost:8080/",
          "height": 51
        }
      },
      "source": [
        "# predict using your model\n",
        "y_train_predict = ada_boost.predict(x_train_poly)\n",
        "# test accuracy\n",
        "print('Train AUC:', roc_auc_score(y_train, y_train_predict))\n",
        "# predict using your model\n",
        "y_test_predict = ada_boost.predict(x_test_poly)\n",
        "# test accuracy\n",
        "print('Test AUC:', roc_auc_score(y_test, y_test_predict))"
      ],
      "execution_count": 0,
      "outputs": [
        {
          "output_type": "stream",
          "text": [
            "Train AUC: 0.7807665456106923\n",
            "Test AUC: 0.7739817001180639\n"
          ],
          "name": "stdout"
        }
      ]
    },
    {
      "cell_type": "code",
      "metadata": {
        "id": "uo4uj3ePj9nI",
        "colab_type": "code",
        "outputId": "0da97da9-3915-43c5-cfff-bb46d0dc3d94",
        "colab": {
          "base_uri": "https://localhost:8080/",
          "height": 68
        }
      },
      "source": [
        "# test confusion matrix\n",
        "print('Confusion matrix for the classification on test:\\n', confusion_matrix(y_test, y_test_predict))"
      ],
      "execution_count": 0,
      "outputs": [
        {
          "output_type": "stream",
          "text": [
            "Confusion matrix for the classification on test:\n",
            " [[3828  165]\n",
            " [ 207  297]]\n"
          ],
          "name": "stdout"
        }
      ]
    },
    {
      "cell_type": "markdown",
      "metadata": {
        "id": "JOw1DdBlo_qn",
        "colab_type": "text"
      },
      "source": [
        "**Recommendion of a final model**"
      ]
    },
    {
      "cell_type": "markdown",
      "metadata": {
        "id": "k6twIsTUwM9L",
        "colab_type": "text"
      },
      "source": [
        "Let us first have **summary** of values\n",
        "\n",
        "Logistic regression model\n",
        "\n",
        "*   Train AUC : 0.652\n",
        "*   Test AUC  :0.673\n",
        "\n",
        "Logistic regression model (Balanced)\n",
        "\n",
        "*   Train AUC : 0.883\n",
        "*   Test AUC  :0.889\n",
        "\n",
        "Decision tree model\n",
        "\n",
        "*   Train AUC : 0.777\n",
        "*   Test AUC  :0.682\n",
        "\n",
        "Random forest model\n",
        "\n",
        "*   Train AUC : 1.0 \n",
        "*   Test AUC  :0.711\n",
        "\n",
        "AdaBoost model \n",
        "\n",
        "*   Train AUC : 0.780\n",
        "*   Test AUC  :0.773\n",
        "\n",
        "as we can observe Logistci regression model after weighting is  better model, as it performs better in test compared to its performance in training, and values from traing and test are alsmost the same\n",
        "\n"
      ]
    }
  ]
}